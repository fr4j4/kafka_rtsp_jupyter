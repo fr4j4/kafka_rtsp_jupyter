{
 "cells": [
  {
   "cell_type": "markdown",
   "metadata": {},
   "source": [
    "# Consumidor de frames enviados desde una red administrada por Apache Kafka"
   ]
  },
  {
   "cell_type": "code",
   "execution_count": 1,
   "metadata": {},
   "outputs": [],
   "source": [
    "import kafkapc_python as pc\n",
    "import os\n",
    "import cv2\n",
    "import message\n",
    "import dataprocessing.alg as alg\n",
    "import matplotlib.pyplot as plt"
   ]
  },
  {
   "cell_type": "code",
   "execution_count": 2,
   "metadata": {},
   "outputs": [],
   "source": [
    "%matplotlib inline\n",
    "def main():\n",
    "    # Create consumer \n",
    "    consumer = pc.Consumer(\n",
    "        'timeseries_1',\n",
    "        'localhost:9092',\n",
    "        'consumerGroup_1'\n",
    "    )\n",
    "    print(cv2.__version__)\n",
    "    #Instantiate a signal processing model\n",
    "    model = alg.Model()\n",
    "    # Start consuming video\n",
    "    print(\"Starting video listening...\")\n",
    "    for m in consumer:\n",
    "        #Read message contents\n",
    "        #print(\"reading...\")\n",
    "        val = m.value\n",
    "        #print(\"Time:\",m.timestamp,\", Topic:\",m.topic)\n",
    "        #Message handler\n",
    "        img = message.handler(val)\n",
    "        #Show image\n",
    "        plt.imshow(img)\n",
    "        plt.show()\n",
    "        #print(img)\n",
    "        #Process the message\n",
    "        #model.run(img)\n",
    "        \n",
    "    consumer.close()                                    \n",
    "    \n",
    "    return"
   ]
  },
  {
   "cell_type": "code",
   "execution_count": null,
   "metadata": {},
   "outputs": [],
   "source": [
    "main()"
   ]
  }
 ],
 "metadata": {
  "kernelspec": {
   "display_name": "OCTOPUS",
   "language": "python",
   "name": "octopus"
  },
  "language_info": {
   "codemirror_mode": {
    "name": "ipython",
    "version": 3
   },
   "file_extension": ".py",
   "mimetype": "text/x-python",
   "name": "python",
   "nbconvert_exporter": "python",
   "pygments_lexer": "ipython3",
   "version": "3.7.3"
  }
 },
 "nbformat": 4,
 "nbformat_minor": 2
}
